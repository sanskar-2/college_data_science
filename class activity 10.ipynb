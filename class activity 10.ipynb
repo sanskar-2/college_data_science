{
 "cells": [
  {
   "cell_type": "markdown",
   "id": "540a4525",
   "metadata": {},
   "source": [
    "# K-Means"
   ]
  },
  {
   "cell_type": "code",
   "execution_count": 7,
   "id": "b5887553",
   "metadata": {},
   "outputs": [
    {
     "data": {
      "image/png": "[encoded data removed]",
      "text/plain": [
       "<Figure size 432x288 with 1 Axes>"
      ]
     },
     "metadata": {
      "needs_background": "light"
     },
     "output_type": "display_data"
    }
   ],
   "source": [
    "\n",
    "import numpy as np\n",
    "from sklearn.cluster import KMeans\n",
    "import matplotlib.pyplot as plt\n",
    "#Generate some random data points\n",
    "np.random.seed(0)\n",
    "data = np.random.rand(100,2)\n",
    "\n",
    "#Number of clusters\n",
    "k = 3\n",
    "\n",
    "#Initialize the KMeans model\n",
    "kmeans = KMeans(n_clusters=k)\n",
    "\n",
    "#Fit the model to the data\n",
    "kmeans.fit(data)\n",
    "\n",
    "#Get the cluster centers and labels\n",
    "centers = kmeans.cluster_centers_\n",
    "labels = kmeans.labels_\n",
    "\n",
    "#Plot the data points and cluster centers\n",
    "plt.scatter(data[:,0],data[:,1],c=labels,cmap='viridis')\n",
    "plt.scatter(centers[:,0],centers[:,1],c = 'red',marker='X',s=100,label='Cluster Centers')\n",
    "plt.title('K-means Clustering')\n",
    "plt.legend()\n",
    "plt.show()"
   ]
  },
  {
   "cell_type": "code",
   "execution_count": 8,
   "id": "09550fba",
   "metadata": {},
   "outputs": [
    {
     "data": {
      "text/plain": [
       "array([0.5488135 , 0.60276338, 0.4236548 , 0.43758721, 0.96366276,\n",
       "       0.79172504, 0.56804456, 0.07103606, 0.0202184 , 0.77815675,\n",
       "       0.97861834, 0.46147936, 0.11827443, 0.14335329, 0.52184832,\n",
       "       0.26455561, 0.45615033, 0.0187898 , 0.61209572, 0.94374808,\n",
       "       0.3595079 , 0.6976312 , 0.66676672, 0.21038256, 0.31542835,\n",
       "       0.57019677, 0.98837384, 0.20887676, 0.65310833, 0.46631077,\n",
       "       0.15896958, 0.65632959, 0.19658236, 0.82099323, 0.83794491,\n",
       "       0.97645947, 0.97676109, 0.73926358, 0.28280696, 0.2961402 ,\n",
       "       0.31798318, 0.0641475 , 0.56660145, 0.52324805, 0.5759465 ,\n",
       "       0.31856895, 0.13179786, 0.28940609, 0.58651293, 0.82894003,\n",
       "       0.67781654, 0.73519402, 0.24875314, 0.59204193, 0.22308163,\n",
       "       0.44712538, 0.69947928, 0.81379782, 0.8811032 , 0.88173536,\n",
       "       0.72525428, 0.95608363, 0.42385505, 0.0191932 , 0.66017354,\n",
       "       0.61801543, 0.13547406, 0.56996491, 0.57432525, 0.65210327,\n",
       "       0.8965466 , 0.43586493, 0.80619399, 0.10022689, 0.7142413 ,\n",
       "       0.1494483 , 0.16249293, 0.12381998, 0.80731896, 0.4071833 ,\n",
       "       0.69742877, 0.7220556 , 0.97552151, 0.01171408, 0.72999056,\n",
       "       0.52103661, 0.19999652, 0.7936977 , 0.34535168, 0.7044144 ,\n",
       "       0.16469416, 0.57722859, 0.934214  , 0.5356328 , 0.73012203,\n",
       "       0.39822106, 0.18619301, 0.7395508 , 0.22741463, 0.05802916])"
      ]
     },
     "execution_count": 8,
     "metadata": {},
     "output_type": "execute_result"
    }
   ],
   "source": [
    "data[:,0]"
   ]
  },
  {
   "cell_type": "markdown",
   "id": "d94b2b09",
   "metadata": {},
   "source": [
    "# Tokenization"
   ]
  },
  {
   "cell_type": "code",
   "execution_count": 9,
   "id": "da8e45bb",
   "metadata": {},
   "outputs": [
    {
     "name": "stderr",
     "output_type": "stream",
     "text": [
      "[nltk_data] Error loading stopwords: <urlopen error [WinError 10060] A\n",
      "[nltk_data]     connection attempt failed because the connected party\n",
      "[nltk_data]     did not properly respond after a period of time, or\n",
      "[nltk_data]     established connection failed because connected host\n",
      "[nltk_data]     has failed to respond>\n",
      "[nltk_data] Error loading punkt: <urlopen error [WinError 10060] A\n",
      "[nltk_data]     connection attempt failed because the connected party\n",
      "[nltk_data]     did not properly respond after a period of time, or\n",
      "[nltk_data]     established connection failed because connected host\n",
      "[nltk_data]     has failed to respond>\n"
     ]
    }
   ],
   "source": [
    "\n",
    "import numpy as np\n",
    "import nltk\n",
    "from nltk.corpus import stopwords\n",
    "from nltk.tokenize import word_tokenize\n",
    "from sklearn.cluster import KMeans\n",
    "import matplotlib.pyplot as plt\n",
    "#Download the stopwords and punkt tokenizer data from NLTK\n",
    "#K-Mean Clustering on text data\n",
    "#Numpy changes the tokenized words into clusters\n",
    "#Clusters are initialized using K-mean and plotted on the graph\n",
    "nltk.download('stopwords')\n",
    "nltk.download('punkt')\n",
    "\n",
    "text_data = [\"Natural language processing is a subfield of artificial intelligence.\",\\\n",
    "\"Text mining involves extracting meaningful information from unstructured text data.\",\\\n",
    "\"Hachine learning algorithms can be applied to analyze text data.\",\\\n",
    "\"NLP tasks include sentiment analysis, named entity recognition, and language translation.\",\\\n",
    "\"K-means clustering is a popular unsupervised machine learning algorithm.\",\\\n",
    "\"K-means is better than support vector machine.\"\n",
    "            ]"
   ]
  },
  {
   "cell_type": "code",
   "execution_count": 10,
   "id": "b3763fc9",
   "metadata": {},
   "outputs": [
    {
     "name": "stdout",
     "output_type": "stream",
     "text": [
      "[['natural', 'language', 'processing', 'subfield', 'artificial', 'intelligence'], ['text', 'mining', 'involves', 'extracting', 'meaningful', 'information', 'unstructured', 'text', 'data'], ['hachine', 'learning', 'algorithms', 'applied', 'analyze', 'text', 'data'], ['nlp', 'tasks', 'include', 'sentiment', 'analysis', 'named', 'entity', 'recognition', 'language', 'translation'], ['clustering', 'popular', 'unsupervised', 'machine', 'learning', 'algorithm'], ['better', 'support', 'vector', 'machine']]\n"
     ]
    }
   ],
   "source": [
    "#Preprocess the text data using word tokenization method in nltk\n",
    "\n",
    "def preprocess_text(text_data):\n",
    "    stop_words = set(stopwords.words('english'))\n",
    "    preprocessed_data = []\n",
    "    for text in text_data:\n",
    "        words = word_tokenize(text.lower())\n",
    "        filtered_words = [word for word in words if word.isalnum() and word not in stop_words]\n",
    "        preprocessed_data.append(filtered_words)\n",
    "    return preprocessed_data\n",
    "preprocessed_data = preprocess_text(text_data)\n",
    "print(preprocessed_data)"
   ]
  },
  {
   "cell_type": "code",
   "execution_count": 11,
   "id": "d9e174f2",
   "metadata": {},
   "outputs": [
    {
     "data": {
      "text/plain": [
       "array([[0., 0., 0., 0., 0., 1., 0., 0., 0., 0., 0., 0., 0., 0., 1., 0.,\n",
       "        1., 0., 0., 0., 0., 0., 1., 0., 0., 1., 0., 0., 1., 0., 0., 0.,\n",
       "        0., 0., 0., 0.],\n",
       "       [0., 0., 0., 0., 0., 0., 0., 0., 1., 0., 1., 0., 0., 1., 0., 1.,\n",
       "        0., 0., 0., 1., 1., 0., 0., 0., 0., 0., 0., 0., 0., 0., 0., 1.,\n",
       "        0., 1., 0., 0.],\n",
       "       [0., 1., 0., 1., 1., 0., 0., 0., 1., 0., 0., 1., 0., 0., 0., 0.,\n",
       "        0., 1., 0., 0., 0., 0., 0., 0., 0., 0., 0., 0., 0., 0., 0., 1.,\n",
       "        0., 0., 0., 0.],\n",
       "       [0., 0., 1., 0., 0., 0., 0., 0., 0., 1., 0., 0., 1., 0., 0., 0.,\n",
       "        1., 0., 0., 0., 0., 1., 0., 1., 0., 0., 1., 1., 0., 0., 1., 0.,\n",
       "        1., 0., 0., 0.],\n",
       "       [1., 0., 0., 0., 0., 0., 0., 1., 0., 0., 0., 0., 0., 0., 0., 0.,\n",
       "        0., 1., 1., 0., 0., 0., 0., 0., 1., 0., 0., 0., 0., 0., 0., 0.,\n",
       "        0., 0., 1., 0.],\n",
       "       [0., 0., 0., 0., 0., 0., 1., 0., 0., 0., 0., 0., 0., 0., 0., 0.,\n",
       "        0., 0., 1., 0., 0., 0., 0., 0., 0., 0., 0., 0., 0., 1., 0., 0.,\n",
       "        0., 0., 0., 1.]])"
      ]
     },
     "execution_count": 11,
     "metadata": {},
     "output_type": "execute_result"
    }
   ],
   "source": [
    "#Convert the preprocessed data to numerical vectors using one-hot encoding\n",
    "unique_words = sorted(set(word for sublist in preprocessed_data for word in sublist))\n",
    "one_hot_vectors = np.zeros((len(preprocessed_data),len(unique_words)))\n",
    "for i, words in enumerate(preprocessed_data):\n",
    "    for word in words:\n",
    "        one_hot_vectors[i,unique_words.index(word)] = 1\n",
    "one_hot_vectors"
   ]
  },
  {
   "cell_type": "code",
   "execution_count": 12,
   "id": "2e0d3bc6",
   "metadata": {},
   "outputs": [],
   "source": [
    "#Number of clusters\n",
    "k = 6\n",
    "\n",
    "#Initialize the Kmeans model\n",
    "kmeans = KMeans(n_clusters=k)\n",
    "\n",
    "#Data initialization --> Model fitting --> Data labelling\n",
    "# --> Data Plotting --> Data Visualization\n",
    "kmeans.fit(one_hot_vectors)\n",
    "\n",
    "#Get the cluster centers and labels\n",
    "centers = kmeans.cluster_centers_"
   ]
  },
  {
   "cell_type": "code",
   "execution_count": 13,
   "id": "00ce854c",
   "metadata": {},
   "outputs": [
    {
     "data": {
      "image/png": "[encoded data removed]",
      "text/plain": [
       "<Figure size 432x288 with 1 Axes>"
      ]
     },
     "metadata": {
      "needs_background": "light"
     },
     "output_type": "display_data"
    }
   ],
   "source": [
    "labels = kmeans.labels_\n",
    "#Plot the data points and cluster centers\n",
    "\n",
    "plt.scatter(centers[:,0],centers[:,1],c = 'red',marker='X',s=100,label='Cluster Centers')\n",
    "plt.title('K-means Clustering')\n",
    "plt.legend()\n",
    "plt.show()"
   ]
  },
  {
   "cell_type": "code",
   "execution_count": null,
   "id": "799f570f",
   "metadata": {},
   "outputs": [],
   "source": []
  }
 ],
 "metadata": {
  "kernelspec": {
   "display_name": "Python 3 (ipykernel)",
   "language": "python",
   "name": "python3"
  },
  "language_info": {
   "codemirror_mode": {
    "name": "ipython",
    "version": 3
   },
   "file_extension": ".py",
   "mimetype": "text/x-python",
   "name": "python",
   "nbconvert_exporter": "python",
   "pygments_lexer": "ipython3",
   "version": "3.9.12"
  }
 },
 "nbformat": 4,
 "nbformat_minor": 5
}
