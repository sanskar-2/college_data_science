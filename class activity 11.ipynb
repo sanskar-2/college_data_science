{
 "cells": [
  {
   "cell_type": "code",
   "execution_count": 1,
   "id": "2e010b67",
   "metadata": {},
   "outputs": [],
   "source": [
    "import cv2"
   ]
  },
  {
   "cell_type": "code",
   "execution_count": 2,
   "id": "74ef6667",
   "metadata": {},
   "outputs": [],
   "source": [
    "#Define a object to access the webcam\n",
    "ob = cv2.VideoCapture(0)"
   ]
  },
  {
   "cell_type": "code",
   "execution_count": 3,
   "id": "baf59c72",
   "metadata": {},
   "outputs": [],
   "source": [
    "# check if the camera opened successfully\n",
    "if not ob.isOpened():\n",
    "    print(\"Error\")\n",
    "    exit()"
   ]
  },
  {
   "cell_type": "code",
   "execution_count": 7,
   "id": "47e9a302",
   "metadata": {},
   "outputs": [],
   "source": [
    "# variables for gesture detection\n",
    "background = None\n",
    "accumulated_weight = 0.5\n",
    "gesture_flag = False\n"
   ]
  },
  {
   "cell_type": "code",
   "execution_count": 6,
   "id": "d1f34f52",
   "metadata": {},
   "outputs": [],
   "source": [
    "# loop to continuously capture and process video\n",
    "while True:\n",
    "    ret, frame = ob.read()\n",
    "    \n",
    "    if not ret:\n",
    "        print(\"error: could not read a frame.\")\n",
    "        break\n",
    "        \n",
    "# convert the frame to grayscale\n",
    "gray_frame = cv2.cvtColor(frame, cv2.COLOR_BGR2GRAY)\n",
    "gray_frame = cv2.GaussianBlur(gray_frame , (21,21),0)\n",
    "\n",
    "if background is None:\n",
    "    background = gray_frame.copy().astype(\"float\")\n",
    "    continue\n",
    "    \n",
    "    #calculate thr absolute difference between the current frame and the background\n",
    "    cv2.accumlateWeighted(gray_frame , background , accumulated_weight)\n",
    "    frame_data = cv2.absdiff(gray_frame, cv2.convertScaleAbs(background))\n",
    "    \n",
    "    #apply thresholding to the frame\n",
    "    thresh = cv2.threshold(frame_delta , 25 , 255 , cv2.thresh_binary)[1]\n",
    "    thresh = cv2.dilate(thresh , none , iterations=2)\n",
    "    \n",
    "    #Find contours in the threshold image\n",
    "    contours,_ = cv2.findContours(thresh.copy() ,cv2.RETR_external , cv2.CHAIN_)\n",
    "    \n",
    "    for contour in contours:\n",
    "        if cv2.contourArea(contour)<1000:\n",
    "            # adjust the area threshold as needed\n",
    "            continue\n",
    "            \n",
    "            #gesture recognition "
   ]
  },
  {
   "cell_type": "code",
   "execution_count": null,
   "id": "3dc2a630",
   "metadata": {},
   "outputs": [],
   "source": []
  }
 ],
 "metadata": {
  "kernelspec": {
   "display_name": "Python 3 (ipykernel)",
   "language": "python",
   "name": "python3"
  },
  "language_info": {
   "codemirror_mode": {
    "name": "ipython",
    "version": 3
   },
   "file_extension": ".py",
   "mimetype": "text/x-python",
   "name": "python",
   "nbconvert_exporter": "python",
   "pygments_lexer": "ipython3",
   "version": "3.9.12"
  }
 },
 "nbformat": 4,
 "nbformat_minor": 5
}
