{
 "cells": [
  {
   "cell_type": "code",
   "execution_count": 2,
   "id": "518a64c8",
   "metadata": {},
   "outputs": [],
   "source": [
    "import pandas as pd"
   ]
  },
  {
   "cell_type": "markdown",
   "id": "6e7b4cd2",
   "metadata": {},
   "source": [
    "# THIS IS USED FOR DATA PREPARATON"
   ]
  },
  {
   "cell_type": "code",
   "execution_count": 4,
   "id": "89c4d59d",
   "metadata": {},
   "outputs": [
    {
     "name": "stdout",
     "output_type": "stream",
     "text": [
      "     sepal_length  sepal_width  petal_length  petal_width         species\n",
      "0             5.1          3.5           1.4          0.2     Iris-setosa\n",
      "1             4.9          3.0           1.4          0.2     Iris-setosa\n",
      "2             4.7          3.2           1.3          0.2     Iris-setosa\n",
      "3             4.6          3.1           1.5          0.2     Iris-setosa\n",
      "4             5.0          3.6           1.4          0.2     Iris-setosa\n",
      "..            ...          ...           ...          ...             ...\n",
      "145           6.7          3.0           5.2          2.3  Iris-virginica\n",
      "146           6.3          2.5           5.0          1.9  Iris-virginica\n",
      "147           6.5          3.0           5.2          2.0  Iris-virginica\n",
      "148           6.2          3.4           5.4          2.3  Iris-virginica\n",
      "149           5.9          3.0           5.1          1.8  Iris-virginica\n",
      "\n",
      "[150 rows x 5 columns]\n"
     ]
    }
   ],
   "source": [
    "data = pd.read_csv('IRIS[1].csv')\n",
    "print(data)"
   ]
  },
  {
   "cell_type": "code",
   "execution_count": 7,
   "id": "0dc2c82c",
   "metadata": {},
   "outputs": [
    {
     "name": "stdout",
     "output_type": "stream",
     "text": [
      "     sepal_length  sepal_width\n",
      "0             5.1          3.5\n",
      "1             4.9          3.0\n",
      "2             4.7          3.2\n",
      "3             4.6          3.1\n",
      "4             5.0          3.6\n",
      "..            ...          ...\n",
      "145           6.7          3.0\n",
      "146           6.3          2.5\n",
      "147           6.5          3.0\n",
      "148           6.2          3.4\n",
      "149           5.9          3.0\n",
      "\n",
      "[150 rows x 2 columns]\n"
     ]
    }
   ],
   "source": [
    "selected_columns = data[['sepal_length', 'sepal_width']]\n",
    "print(selected_columns)"
   ]
  },
  {
   "cell_type": "code",
   "execution_count": 5,
   "id": "74a535b7",
   "metadata": {},
   "outputs": [
    {
     "name": "stdout",
     "output_type": "stream",
     "text": [
      "     sepal_length  sepal_width  petal_length  petal_width         species\n",
      "0             5.1          3.5           1.4          0.2     Iris-setosa\n",
      "5             5.4          3.9           1.7          0.4     Iris-setosa\n",
      "10            5.4          3.7           1.5          0.2     Iris-setosa\n",
      "14            5.8          4.0           1.2          0.2     Iris-setosa\n",
      "15            5.7          4.4           1.5          0.4     Iris-setosa\n",
      "..            ...          ...           ...          ...             ...\n",
      "145           6.7          3.0           5.2          2.3  Iris-virginica\n",
      "146           6.3          2.5           5.0          1.9  Iris-virginica\n",
      "147           6.5          3.0           5.2          2.0  Iris-virginica\n",
      "148           6.2          3.4           5.4          2.3  Iris-virginica\n",
      "149           5.9          3.0           5.1          1.8  Iris-virginica\n",
      "\n",
      "[118 rows x 5 columns]\n"
     ]
    }
   ],
   "source": [
    "filtered_data=data[data['sepal_length']>5]\n",
    "print(filtered_data)"
   ]
  },
  {
   "cell_type": "code",
   "execution_count": 12,
   "id": "9f957171",
   "metadata": {},
   "outputs": [
    {
     "name": "stdout",
     "output_type": "stream",
     "text": [
      "                 sepal_length  sepal_width  petal_length  petal_width\n",
      "species                                                              \n",
      "Iris-setosa             250.3        170.9          73.2         12.2\n",
      "Iris-versicolor         296.8        138.5         213.0         66.3\n",
      "Iris-virginica          329.4        148.7         277.6        101.3\n"
     ]
    }
   ],
   "source": [
    "grouped_data = data.groupby('species').sum()\n",
    "print(grouped_data)"
   ]
  },
  {
   "cell_type": "markdown",
   "id": "53f522cd",
   "metadata": {},
   "source": [
    "# merging two columns"
   ]
  },
  {
   "cell_type": "code",
   "execution_count": 14,
   "id": "8067c81a",
   "metadata": {},
   "outputs": [],
   "source": [
    "data1 = pd.read_csv('IRIS[1].csv')\n",
    "data2 = pd.read_csv('IRIS[1].csv')"
   ]
  },
  {
   "cell_type": "code",
   "execution_count": 16,
   "id": "3a88b9cf",
   "metadata": {},
   "outputs": [
    {
     "name": "stdout",
     "output_type": "stream",
     "text": [
      "     sepal_length  sepal_width_x  petal_length_x  petal_width_x  \\\n",
      "0             5.1            3.5             1.4            0.2   \n",
      "1             5.1            3.5             1.4            0.2   \n",
      "2             5.1            3.5             1.4            0.2   \n",
      "3             5.1            3.5             1.4            0.2   \n",
      "4             5.1            3.5             1.4            0.2   \n",
      "..            ...            ...             ...            ...   \n",
      "895           7.7            3.0             6.1            2.3   \n",
      "896           7.7            3.0             6.1            2.3   \n",
      "897           7.7            3.0             6.1            2.3   \n",
      "898           7.4            2.8             6.1            1.9   \n",
      "899           7.9            3.8             6.4            2.0   \n",
      "\n",
      "          species_x  sepal_width_y  petal_length_y  petal_width_y  \\\n",
      "0       Iris-setosa            3.5             1.4            0.2   \n",
      "1       Iris-setosa            3.5             1.4            0.3   \n",
      "2       Iris-setosa            3.8             1.5            0.3   \n",
      "3       Iris-setosa            3.7             1.5            0.4   \n",
      "4       Iris-setosa            3.3             1.7            0.5   \n",
      "..              ...            ...             ...            ...   \n",
      "895  Iris-virginica            2.6             6.9            2.3   \n",
      "896  Iris-virginica            2.8             6.7            2.0   \n",
      "897  Iris-virginica            3.0             6.1            2.3   \n",
      "898  Iris-virginica            2.8             6.1            1.9   \n",
      "899  Iris-virginica            3.8             6.4            2.0   \n",
      "\n",
      "          species_y  \n",
      "0       Iris-setosa  \n",
      "1       Iris-setosa  \n",
      "2       Iris-setosa  \n",
      "3       Iris-setosa  \n",
      "4       Iris-setosa  \n",
      "..              ...  \n",
      "895  Iris-virginica  \n",
      "896  Iris-virginica  \n",
      "897  Iris-virginica  \n",
      "898  Iris-virginica  \n",
      "899  Iris-virginica  \n",
      "\n",
      "[900 rows x 9 columns]\n"
     ]
    }
   ],
   "source": [
    "merged_data=pd.merge(data1,data2, on='sepal_length')\n",
    "print(merged_data)\n"
   ]
  },
  {
   "cell_type": "markdown",
   "id": "53e9424d",
   "metadata": {},
   "source": [
    "# checking for null value   used for data cleaning\n",
    "data.info() # column name has null value or not"
   ]
  },
  {
   "cell_type": "code",
   "execution_count": 17,
   "id": "5caeccf5",
   "metadata": {},
   "outputs": [
    {
     "name": "stdout",
     "output_type": "stream",
     "text": [
      "     sepal_length  sepal_width  petal_length  petal_width         species\n",
      "0             5.1          3.5           1.4          0.2     Iris-setosa\n",
      "1             4.9          3.0           1.4          0.2     Iris-setosa\n",
      "2             4.7          3.2           1.3          0.2     Iris-setosa\n",
      "3             4.6          3.1           1.5          0.2     Iris-setosa\n",
      "4             5.0          3.6           1.4          0.2     Iris-setosa\n",
      "..            ...          ...           ...          ...             ...\n",
      "145           6.7          3.0           5.2          2.3  Iris-virginica\n",
      "146           6.3          2.5           5.0          1.9  Iris-virginica\n",
      "147           6.5          3.0           5.2          2.0  Iris-virginica\n",
      "148           6.2          3.4           5.4          2.3  Iris-virginica\n",
      "149           5.9          3.0           5.1          1.8  Iris-virginica\n",
      "\n",
      "[150 rows x 5 columns]\n"
     ]
    }
   ],
   "source": [
    "data.fillna(0,inplace=True)\n",
    "print(data)\n",
    "# jah par null value hogi wah par 0 fill kar dega [fillna use]"
   ]
  },
  {
   "cell_type": "markdown",
   "id": "c3c1c51d",
   "metadata": {},
   "source": [
    "#  adding new column"
   ]
  },
  {
   "cell_type": "code",
   "execution_count": 19,
   "id": "bb45857c",
   "metadata": {},
   "outputs": [
    {
     "name": "stdout",
     "output_type": "stream",
     "text": [
      "     sepal_length  sepal_width  petal_length  petal_width         species  \\\n",
      "0             5.1          3.5           1.4          0.2     Iris-setosa   \n",
      "1             4.9          3.0           1.4          0.2     Iris-setosa   \n",
      "2             4.7          3.2           1.3          0.2     Iris-setosa   \n",
      "3             4.6          3.1           1.5          0.2     Iris-setosa   \n",
      "4             5.0          3.6           1.4          0.2     Iris-setosa   \n",
      "..            ...          ...           ...          ...             ...   \n",
      "145           6.7          3.0           5.2          2.3  Iris-virginica   \n",
      "146           6.3          2.5           5.0          1.9  Iris-virginica   \n",
      "147           6.5          3.0           5.2          2.0  Iris-virginica   \n",
      "148           6.2          3.4           5.4          2.3  Iris-virginica   \n",
      "149           5.9          3.0           5.1          1.8  Iris-virginica   \n",
      "\n",
      "     processed_column  \n",
      "0                10.2  \n",
      "1                 9.8  \n",
      "2                 9.4  \n",
      "3                 9.2  \n",
      "4                10.0  \n",
      "..                ...  \n",
      "145              13.4  \n",
      "146              12.6  \n",
      "147              13.0  \n",
      "148              12.4  \n",
      "149              11.8  \n",
      "\n",
      "[150 rows x 6 columns]\n"
     ]
    }
   ],
   "source": [
    "def process_value(value):\n",
    "    #apply custom logic to process each value\n",
    "    processed_value = value*2\n",
    "    return processed_value\n",
    "data['processed_column']= data['sepal_length'].apply(process_value)\n",
    "print(data)"
   ]
  },
  {
   "cell_type": "markdown",
   "id": "7124fa23",
   "metadata": {},
   "source": [
    "# pivot is used here for data visualization"
   ]
  },
  {
   "cell_type": "code",
   "execution_count": 21,
   "id": "59151b7c",
   "metadata": {},
   "outputs": [
    {
     "name": "stdout",
     "output_type": "stream",
     "text": [
      "species       Iris-setosa  Iris-versicolor  Iris-virginica\n",
      "petal_length                                              \n",
      "1.0              4.600000              NaN             NaN\n",
      "1.1              4.300000              NaN             NaN\n",
      "1.2              5.400000              NaN             NaN\n",
      "1.3              4.842857              NaN             NaN\n",
      "1.4              4.916667              NaN             NaN\n",
      "1.5              5.128571              NaN             NaN\n",
      "1.6              4.914286              NaN             NaN\n",
      "1.7              5.400000              NaN             NaN\n",
      "1.9              4.950000              NaN             NaN\n",
      "3.0                   NaN         5.100000             NaN\n",
      "3.3                   NaN         4.950000             NaN\n",
      "3.5                   NaN         5.350000             NaN\n",
      "3.6                   NaN         5.600000             NaN\n",
      "3.7                   NaN         5.500000             NaN\n",
      "3.8                   NaN         5.500000             NaN\n",
      "3.9                   NaN         5.533333             NaN\n",
      "4.0                   NaN         5.780000             NaN\n",
      "4.1                   NaN         5.700000             NaN\n",
      "4.2                   NaN         5.725000             NaN\n",
      "4.3                   NaN         6.300000             NaN\n",
      "4.4                   NaN         6.275000             NaN\n",
      "4.5                   NaN         5.900000        4.900000\n",
      "4.6                   NaN         6.400000             NaN\n",
      "4.7                   NaN         6.440000             NaN\n",
      "4.8                   NaN         6.350000        6.100000\n",
      "4.9                   NaN         6.600000        6.000000\n",
      "5.0                   NaN         6.700000        6.000000\n",
      "5.1                   NaN         6.000000        6.142857\n",
      "5.2                   NaN              NaN        6.600000\n",
      "5.3                   NaN              NaN        6.400000\n",
      "5.4                   NaN              NaN        6.550000\n",
      "5.5                   NaN              NaN        6.566667\n",
      "5.6                   NaN              NaN        6.366667\n",
      "5.7                   NaN              NaN        6.766667\n",
      "5.8                   NaN              NaN        6.800000\n",
      "5.9                   NaN              NaN        6.950000\n",
      "6.0                   NaN              NaN        6.750000\n",
      "6.1                   NaN              NaN        7.433333\n",
      "6.3                   NaN              NaN        7.300000\n",
      "6.4                   NaN              NaN        7.900000\n",
      "6.6                   NaN              NaN        7.600000\n",
      "6.7                   NaN              NaN        7.700000\n",
      "6.9                   NaN              NaN        7.700000\n"
     ]
    }
   ],
   "source": [
    "pivot_table = pd.pivot_table(data, values ='sepal_length', index='petal_length', columns='species')\n",
    "print(pivot_table)"
   ]
  },
  {
   "cell_type": "code",
   "execution_count": null,
   "id": "3748279d",
   "metadata": {},
   "outputs": [],
   "source": [
    "# analytic real date and time"
   ]
  },
  {
   "cell_type": "code",
   "execution_count": 3,
   "id": "122ea77b",
   "metadata": {},
   "outputs": [
    {
     "ename": "NameError",
     "evalue": "name 'data' is not defined",
     "output_type": "error",
     "traceback": [
      "\u001b[1;31m---------------------------------------------------------------------------\u001b[0m",
      "\u001b[1;31mNameError\u001b[0m                                 Traceback (most recent call last)",
      "Input \u001b[1;32mIn [3]\u001b[0m, in \u001b[0;36m<cell line: 1>\u001b[1;34m()\u001b[0m\n\u001b[1;32m----> 1\u001b[0m date[\u001b[38;5;124m'\u001b[39m\u001b[38;5;124mdate_column\u001b[39m\u001b[38;5;124m'\u001b[39m] \u001b[38;5;241m=\u001b[39m pd\u001b[38;5;241m.\u001b[39mto_datetime(\u001b[43mdata\u001b[49m[\u001b[38;5;124m'\u001b[39m\u001b[38;5;124msepal_length\u001b[39m\u001b[38;5;124m'\u001b[39m])\n\u001b[0;32m      2\u001b[0m data\u001b[38;5;241m.\u001b[39mset_index(\u001b[38;5;124m'\u001b[39m\u001b[38;5;124mdate_column\u001b[39m\u001b[38;5;124m'\u001b[39m, inplace\u001b[38;5;241m=\u001b[39m\u001b[38;5;28;01mTrue\u001b[39;00m)\n\u001b[0;32m      3\u001b[0m resampled_data \u001b[38;5;241m=\u001b[39m data\u001b[38;5;241m.\u001b[39mresample(\u001b[38;5;124m'\u001b[39m\u001b[38;5;124mM\u001b[39m\u001b[38;5;124m'\u001b[39m)\u001b[38;5;241m.\u001b[39msum()\n",
      "\u001b[1;31mNameError\u001b[0m: name 'data' is not defined"
     ]
    }
   ],
   "source": [
    "date['date_column'] = pd.to_datetime(data['sepal_length'])\n",
    "data.set_index('date_column', inplace=True)\n",
    "resampled_data = data.resample('M').sum()\n",
    "print(resampled_data)"
   ]
  },
  {
   "cell_type": "markdown",
   "id": "376f4630",
   "metadata": {},
   "source": [
    "# 2. numpy"
   ]
  },
  {
   "cell_type": "code",
   "execution_count": 1,
   "id": "82398c86",
   "metadata": {},
   "outputs": [],
   "source": [
    "import numpy as np\n"
   ]
  },
  {
   "cell_type": "code",
   "execution_count": 2,
   "id": "e0522906",
   "metadata": {},
   "outputs": [
    {
     "name": "stdout",
     "output_type": "stream",
     "text": [
      "[1 2 3 4 5]\n",
      "Sum: 15\n",
      "Mean: 3.0\n",
      "Max: 5\n",
      "Min: 1\n"
     ]
    }
   ],
   "source": [
    "#create a 1-d array\n",
    "arr=np.array([1,2,3,4,5])\n",
    "print(arr)\n",
    "print(\"Sum:\",np.sum(arr))\n",
    "print(\"Mean:\",np.mean(arr))\n",
    "print(\"Max:\",np.max(arr))\n",
    "print(\"Min:\",np.min(arr))"
   ]
  },
  {
   "cell_type": "code",
   "execution_count": 3,
   "id": "bba57ed0",
   "metadata": {},
   "outputs": [
    {
     "name": "stdout",
     "output_type": "stream",
     "text": [
      "[[1 2 3]\n",
      " [4 5 6]]\n"
     ]
    }
   ],
   "source": [
    "#reshape array to a 2X3 matrix\n",
    "arr1= np.array([1,2,3,4,5,6])\n",
    "reshaped_arr = arr1.reshape(2,3)\n",
    "print(reshaped_arr)"
   ]
  },
  {
   "cell_type": "code",
   "execution_count": 4,
   "id": "4e73625f",
   "metadata": {},
   "outputs": [
    {
     "name": "stdout",
     "output_type": "stream",
     "text": [
      "[[0.99713417 0.80072424 0.93677806]\n",
      " [0.09779458 0.15384202 0.82508274]\n",
      " [0.80541167 0.80678872 0.42581183]]\n"
     ]
    }
   ],
   "source": [
    "arr2 = np.random.random((3,3))\n",
    "print(arr2)"
   ]
  },
  {
   "cell_type": "code",
   "execution_count": 5,
   "id": "b594c2e6",
   "metadata": {},
   "outputs": [
    {
     "name": "stdout",
     "output_type": "stream",
     "text": [
      "[5 7 9]\n"
     ]
    }
   ],
   "source": [
    "arr1 = np.array([1,2,3])\n",
    "arr2 = np.array([4,5,6])\n",
    "result = arr1 + arr2\n",
    "print(result)"
   ]
  },
  {
   "cell_type": "code",
   "execution_count": 7,
   "id": "789e0511",
   "metadata": {},
   "outputs": [
    {
     "name": "stdout",
     "output_type": "stream",
     "text": [
      "[5 7 9]\n"
     ]
    }
   ],
   "source": [
    "#create a 2D array\n",
    "arr3 = np.array([1,2,3])\n",
    "arr4 = np.array([4,5,6])\n",
    "print(arr3 + arr4)"
   ]
  },
  {
   "cell_type": "code",
   "execution_count": 15,
   "id": "52800073",
   "metadata": {},
   "outputs": [
    {
     "name": "stdout",
     "output_type": "stream",
     "text": [
      "[[1 2]\n",
      " [3 4]\n",
      " [5 6]]\n",
      "[ 9 12]\n",
      "[ 3  7 11]\n"
     ]
    }
   ],
   "source": [
    "#sum along row(axis=0)\n",
    "data=np.array([[1,2],[3,4],[5,6]])\n",
    "print(data)\n",
    "sum_along_rows = np.sum(data,axis=0)\n",
    "sum_along_columns = np.sum(data,axis=1)\n",
    "print(sum_along_rows)\n",
    "print(sum_along_columns)"
   ]
  },
  {
   "cell_type": "code",
   "execution_count": 16,
   "id": "d6fe2de5",
   "metadata": {},
   "outputs": [
    {
     "name": "stdout",
     "output_type": "stream",
     "text": [
      "2\n",
      "[3 4 5 6]\n"
     ]
    }
   ],
   "source": [
    "arr6 =np.array([1,2,3,4,5,6])\n",
    "#indexing\n",
    "print(arr6[1]) # access element at index 1\n",
    "\n",
    "# boolean masking\n",
    "mask = data>2\n",
    "filtered_data = data[mask]\n",
    "print(filtered_data)"
   ]
  },
  {
   "cell_type": "code",
   "execution_count": 19,
   "id": "77938f1b",
   "metadata": {},
   "outputs": [
    {
     "name": "stdout",
     "output_type": "stream",
     "text": [
      "[1 2 3 4 5 6]\n",
      "[0 1 2 2 5 1 5]\n"
     ]
    }
   ],
   "source": [
    "data = np.array([1,2,2,3,3,4,4,4,4,4,5,6,6,6,6,6,])\n",
    "\n",
    "# unique elements\n",
    "unique_elements = np.unique(data)\n",
    "\n",
    "#count occurrence of unique elements \n",
    "element_counts=np.bincount(data)\n",
    "print(unique_elements)\n",
    "print(element_counts)"
   ]
  },
  {
   "cell_type": "code",
   "execution_count": 20,
   "id": "c3d57230",
   "metadata": {},
   "outputs": [
    {
     "name": "stdout",
     "output_type": "stream",
     "text": [
      "slope: 0.6000000000000002\n",
      "intercept: 2.1999999999999993\n"
     ]
    }
   ],
   "source": [
    "# simulated data for linear regression\n",
    "x = np.array([1,2,3,4,5])\n",
    "y = np.array([2,4,5,4,5])\n",
    "\n",
    "#perform linear regression using numpy's polyfit\n",
    "coefficients = np.polyfit(x,y,1)\n",
    "\n",
    "#Extract slope and intercept from the coefficients\n",
    "slope, intercept = coefficients\n",
    "print(\"slope:\",slope)\n",
    "print(\"intercept:\",intercept)"
   ]
  },
  {
   "cell_type": "code",
   "execution_count": null,
   "id": "085be379",
   "metadata": {},
   "outputs": [],
   "source": []
  }
 ],
 "metadata": {
  "kernelspec": {
   "display_name": "Python 3 (ipykernel)",
   "language": "python",
   "name": "python3"
  },
  "language_info": {
   "codemirror_mode": {
    "name": "ipython",
    "version": 3
   },
   "file_extension": ".py",
   "mimetype": "text/x-python",
   "name": "python",
   "nbconvert_exporter": "python",
   "pygments_lexer": "ipython3",
   "version": "3.9.12"
  }
 },
 "nbformat": 4,
 "nbformat_minor": 5
}
