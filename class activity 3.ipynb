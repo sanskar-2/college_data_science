{
 "cells": [
  {
   "cell_type": "code",
   "execution_count": 6,
   "id": "35ce5ef0",
   "metadata": {},
   "outputs": [],
   "source": [
    "import pandas as pd\n",
    "import numpy as np\n",
    "import seaborn as sns\n",
    "import plotly.graph_objects as go\n",
    "data = pd.read_csv('world-data-2023[1].csv')"
   ]
  },
  {
   "cell_type": "code",
   "execution_count": 7,
   "id": "03db28e2",
   "metadata": {},
   "outputs": [
    {
     "name": "stdout",
     "output_type": "stream",
     "text": [
      "         Country Density\\n(P/Km2) Abbreviation Agricultural Land( %)  \\\n",
      "0    Afghanistan               60           AF                58.10%   \n",
      "1        Albania              105           AL                43.10%   \n",
      "2        Algeria               18           DZ                17.40%   \n",
      "3        Andorra              164           AD                40.00%   \n",
      "4         Angola               26           AO                47.50%   \n",
      "..           ...              ...          ...                   ...   \n",
      "190    Venezuela               32           VE                24.50%   \n",
      "191      Vietnam              314           VN                39.30%   \n",
      "192        Yemen               56           YE                44.60%   \n",
      "193       Zambia               25           ZM                32.10%   \n",
      "194     Zimbabwe               38           ZW                41.90%   \n",
      "\n",
      "    Land Area(Km2) Armed Forces size  Birth Rate  Calling Code  \\\n",
      "0          652,230           323,000       32.49          93.0   \n",
      "1           28,748             9,000       11.78         355.0   \n",
      "2        2,381,741           317,000       24.28         213.0   \n",
      "3              468               NaN        7.20         376.0   \n",
      "4        1,246,700           117,000       40.73         244.0   \n",
      "..             ...               ...         ...           ...   \n",
      "190        912,050           343,000       17.88          58.0   \n",
      "191        331,210           522,000       16.75          84.0   \n",
      "192        527,968            40,000       30.45         967.0   \n",
      "193        752,618            16,000       36.19         260.0   \n",
      "194        390,757            51,000       30.68         263.0   \n",
      "\n",
      "    Capital/Major City Co2-Emissions  ... Out of pocket health expenditure  \\\n",
      "0                Kabul         8,672  ...                           78.40%   \n",
      "1               Tirana         4,536  ...                           56.90%   \n",
      "2              Algiers       150,006  ...                           28.10%   \n",
      "3     Andorra la Vella           469  ...                           36.40%   \n",
      "4               Luanda        34,693  ...                           33.40%   \n",
      "..                 ...           ...  ...                              ...   \n",
      "190            Caracas       164,175  ...                           45.80%   \n",
      "191              Hanoi       192,668  ...                           43.50%   \n",
      "192              Sanaa        10,609  ...                           81.00%   \n",
      "193             Lusaka         5,141  ...                           27.50%   \n",
      "194             Harare        10,983  ...                           25.80%   \n",
      "\n",
      "    Physicians per thousand  Population  \\\n",
      "0                      0.28  38,041,754   \n",
      "1                      1.20   2,854,191   \n",
      "2                      1.72  43,053,054   \n",
      "3                      3.33      77,142   \n",
      "4                      0.21  31,825,295   \n",
      "..                      ...         ...   \n",
      "190                    1.92  28,515,829   \n",
      "191                    0.82  96,462,106   \n",
      "192                    0.31  29,161,922   \n",
      "193                    1.19  17,861,030   \n",
      "194                    0.21  14,645,468   \n",
      "\n",
      "     Population: Labor force participation (%) Tax revenue (%) Total tax rate  \\\n",
      "0                                       48.90%           9.30%         71.40%   \n",
      "1                                       55.70%          18.60%         36.60%   \n",
      "2                                       41.20%          37.20%         66.10%   \n",
      "3                                          NaN             NaN            NaN   \n",
      "4                                       77.50%           9.20%         49.10%   \n",
      "..                                         ...             ...            ...   \n",
      "190                                     59.70%             NaN         73.30%   \n",
      "191                                     77.40%          19.10%         37.60%   \n",
      "192                                     38.00%             NaN         26.60%   \n",
      "193                                     74.60%          16.20%         15.60%   \n",
      "194                                     83.10%          20.70%         31.60%   \n",
      "\n",
      "    Unemployment rate Urban_population   Latitude   Longitude  \n",
      "0              11.12%        9,797,273  33.939110   67.709953  \n",
      "1              12.33%        1,747,593  41.153332   20.168331  \n",
      "2              11.70%       31,510,100  28.033886    1.659626  \n",
      "3                 NaN           67,873  42.506285    1.521801  \n",
      "4               6.89%       21,061,025 -11.202692   17.873887  \n",
      "..                ...              ...        ...         ...  \n",
      "190             8.80%       25,162,368   6.423750  -66.589730  \n",
      "191             2.01%       35,332,140  14.058324  108.277199  \n",
      "192            12.91%       10,869,523  15.552727   48.516388  \n",
      "193            11.43%        7,871,713 -13.133897   27.849332  \n",
      "194             4.95%        4,717,305 -19.015438   29.154857  \n",
      "\n",
      "[195 rows x 35 columns]\n"
     ]
    }
   ],
   "source": [
    "data = pd.read_csv('world-data-2023[1].csv')\n",
    "print(data)"
   ]
  },
  {
   "cell_type": "code",
   "execution_count": null,
   "id": "2fede191",
   "metadata": {},
   "outputs": [],
   "source": []
  },
  {
   "cell_type": "code",
   "execution_count": 12,
   "id": "15eb57d2",
   "metadata": {},
   "outputs": [
    {
     "name": "stdout",
     "output_type": "stream",
     "text": [
      "         Country Abbreviation\n",
      "0    Afghanistan           AF\n",
      "1        Albania           AL\n",
      "2        Algeria           DZ\n",
      "3        Andorra           AD\n",
      "4         Angola           AO\n",
      "..           ...          ...\n",
      "190    Venezuela           VE\n",
      "191      Vietnam           VN\n",
      "192        Yemen           YE\n",
      "193       Zambia           ZM\n",
      "194     Zimbabwe           ZW\n",
      "\n",
      "[195 rows x 2 columns]\n"
     ]
    }
   ],
   "source": [
    "data = pd.read_csv('world-data-2023[1].csv')\n",
    "selected_columns = data[['Country','Abbreviation']]\n",
    "print(selected_columns)"
   ]
  },
  {
   "cell_type": "code",
   "execution_count": 10,
   "id": "4d685692",
   "metadata": {},
   "outputs": [
    {
     "name": "stdout",
     "output_type": "stream",
     "text": [
      "                              Country\n",
      "0                         Afghanistan\n",
      "4                              Angola\n",
      "18                              Benin\n",
      "26                       Burkina Faso\n",
      "27                            Burundi\n",
      "28                        Ivory Coast\n",
      "31                           Cameroon\n",
      "33           Central African Republic\n",
      "34                               Chad\n",
      "38                            Comoros\n",
      "39              Republic of the Congo\n",
      "45   Democratic Republic of the Congo\n",
      "53                  Equatorial Guinea\n",
      "54                            Eritrea\n",
      "57                           Ethiopia\n",
      "61                              Gabon\n",
      "62                         The Gambia\n",
      "69                             Guinea\n",
      "70                      Guinea-Bissau\n",
      "96                            Liberia\n",
      "101                        Madagascar\n",
      "102                            Malawi\n",
      "105                              Mali\n",
      "108                        Mauritania\n",
      "117                        Mozambique\n",
      "125                             Niger\n",
      "126                           Nigeria\n",
      "144                            Rwanda\n",
      "150                      S�����������\n",
      "152                           Senegal\n",
      "155                      Sierra Leone\n",
      "159                   Solomon Islands\n",
      "160                           Somalia\n",
      "163                       South Sudan\n",
      "166                             Sudan\n",
      "171                        Tajikistan\n",
      "172                          Tanzania\n",
      "175                              Togo\n",
      "182                            Uganda\n",
      "192                             Yemen\n",
      "193                            Zambia\n",
      "194                          Zimbabwe\n"
     ]
    }
   ],
   "source": [
    "filtered_data=data[data['Birth Rate']>30]\n",
    "print(filtered_data[[\"Country\"]])"
   ]
  },
  {
   "cell_type": "code",
   "execution_count": 13,
   "id": "ce9ce835",
   "metadata": {},
   "outputs": [
    {
     "name": "stdout",
     "output_type": "stream",
     "text": [
      "1:Country\n",
      "2:Density\n",
      "(P/Km2)\n",
      "3:Abbreviation\n",
      "4:Agricultural Land( %)\n",
      "5:Land Area(Km2)\n",
      "6:Armed Forces size\n",
      "7:Birth Rate\n",
      "8:Calling Code\n",
      "9:Capital/Major City\n",
      "10:Co2-Emissions\n",
      "11:CPI\n",
      "12:CPI Change (%)\n",
      "13:Currency-Code\n",
      "14:Fertility Rate\n",
      "15:Forested Area (%)\n",
      "16:Gasoline Price\n",
      "17:GDP\n",
      "18:Gross primary education enrollment (%)\n",
      "19:Gross tertiary education enrollment (%)\n",
      "20:Infant mortality\n",
      "21:Largest city\n",
      "22:Life expectancy\n",
      "23:Maternal mortality ratio\n",
      "24:Minimum wage\n",
      "25:Official language\n",
      "26:Out of pocket health expenditure\n",
      "27:Physicians per thousand\n",
      "28:Population\n",
      "29:Population: Labor force participation (%)\n",
      "30:Tax revenue (%)\n",
      "31:Total tax rate\n",
      "32:Unemployment rate\n",
      "33:Urban_population\n",
      "34:Latitude\n",
      "35:Longitude\n"
     ]
    }
   ],
   "source": [
    "count = 1\n",
    "for col in data.columns:\n",
    "    print(f\"{count}:{col}\")\n",
    "    count +=1"
   ]
  },
  {
   "cell_type": "code",
   "execution_count": 14,
   "id": "d79e6a61",
   "metadata": {},
   "outputs": [
    {
     "name": "stdout",
     "output_type": "stream",
     "text": [
      "5:Country\n",
      "14:Density\n",
      "(P/Km2)\n",
      "23:Abbreviation\n",
      "32:Agricultural Land( %)\n",
      "41:Land Area(Km2)\n",
      "50:Armed Forces size\n",
      "59:Birth Rate\n",
      "68:Calling Code\n",
      "77:Capital/Major City\n",
      "86:Co2-Emissions\n",
      "95:CPI\n",
      "104:CPI Change (%)\n",
      "113:Currency-Code\n",
      "122:Fertility Rate\n",
      "131:Forested Area (%)\n",
      "140:Gasoline Price\n",
      "149:GDP\n",
      "158:Gross primary education enrollment (%)\n",
      "167:Gross tertiary education enrollment (%)\n",
      "176:Infant mortality\n",
      "185:Largest city\n",
      "194:Life expectancy\n",
      "203:Maternal mortality ratio\n",
      "212:Minimum wage\n",
      "221:Official language\n",
      "230:Out of pocket health expenditure\n",
      "239:Physicians per thousand\n",
      "248:Population\n",
      "257:Population: Labor force participation (%)\n",
      "266:Tax revenue (%)\n",
      "275:Total tax rate\n",
      "284:Unemployment rate\n",
      "293:Urban_population\n",
      "302:Latitude\n",
      "311:Longitude\n"
     ]
    }
   ],
   "source": [
    "count = 5\n",
    "for col in data.columns:\n",
    "    print(f\"{count}:{col}\")\n",
    "    count +=9"
   ]
  },
  {
   "cell_type": "code",
   "execution_count": 1,
   "id": "508d1a2a",
   "metadata": {},
   "outputs": [],
   "source": [
    "# print(data.shape)\n",
    "# print(data.head)\n",
    "# print(data.columns)\n",
    "# data.describe\n",
    "# data.shape(3))\n",
    "# data.describe(3))\n",
    "# data.axes\n",
    "# data.tail(7)\n",
    "# data.rename_axis\n",
    "# data.aggregate\n",
    "# data.pivot_table\n",
    "# data.reindex\n",
    "# data.expanding\n",
    "# data.iloc\n",
    "# data.is_monotonic\n",
    "# data.pivot\n",
    "# data.is_unique\n",
    "\n"
   ]
  },
  {
   "cell_type": "code",
   "execution_count": 21,
   "id": "50ddb368",
   "metadata": {},
   "outputs": [
    {
     "ename": "TypeError",
     "evalue": "'method' object is not iterable",
     "output_type": "error",
     "traceback": [
      "\u001b[1;31m---------------------------------------------------------------------------\u001b[0m",
      "\u001b[1;31mTypeError\u001b[0m                                 Traceback (most recent call last)",
      "Input \u001b[1;32mIn [21]\u001b[0m, in \u001b[0;36m<cell line: 2>\u001b[1;34m()\u001b[0m\n\u001b[0;32m      1\u001b[0m count \u001b[38;5;241m=\u001b[39m \u001b[38;5;241m1\u001b[39m\n\u001b[1;32m----> 2\u001b[0m \u001b[38;5;28;01mfor\u001b[39;00m col \u001b[38;5;129;01min\u001b[39;00m data\u001b[38;5;241m.\u001b[39mrename_axis:\n\u001b[0;32m      3\u001b[0m     \u001b[38;5;28mprint\u001b[39m(\u001b[38;5;124mf\u001b[39m\u001b[38;5;124m\"\u001b[39m\u001b[38;5;132;01m{\u001b[39;00mcount\u001b[38;5;132;01m}\u001b[39;00m\u001b[38;5;124m:\u001b[39m\u001b[38;5;132;01m{\u001b[39;00mcol\u001b[38;5;132;01m}\u001b[39;00m\u001b[38;5;124m\"\u001b[39m)\n\u001b[0;32m      4\u001b[0m     count \u001b[38;5;241m+\u001b[39m\u001b[38;5;241m=\u001b[39m\u001b[38;5;241m1\u001b[39m\n",
      "\u001b[1;31mTypeError\u001b[0m: 'method' object is not iterable"
     ]
    }
   ],
   "source": [
    "count = 1\n",
    "for col in data.rename_axis:\n",
    "    print(f\"{count}:{col}\")\n",
    "    count +=1"
   ]
  },
  {
   "cell_type": "code",
   "execution_count": 22,
   "id": "c5a5deda",
   "metadata": {},
   "outputs": [
    {
     "data": {
      "text/plain": [
       "<bound method NDFrame.rename_axis of          Country Density\\n(P/Km2) Abbreviation Agricultural Land( %)  \\\n",
       "0    Afghanistan               60           AF                58.10%   \n",
       "1        Albania              105           AL                43.10%   \n",
       "2        Algeria               18           DZ                17.40%   \n",
       "3        Andorra              164           AD                40.00%   \n",
       "4         Angola               26           AO                47.50%   \n",
       "..           ...              ...          ...                   ...   \n",
       "190    Venezuela               32           VE                24.50%   \n",
       "191      Vietnam              314           VN                39.30%   \n",
       "192        Yemen               56           YE                44.60%   \n",
       "193       Zambia               25           ZM                32.10%   \n",
       "194     Zimbabwe               38           ZW                41.90%   \n",
       "\n",
       "    Land Area(Km2) Armed Forces size  Birth Rate  Calling Code  \\\n",
       "0          652,230           323,000       32.49          93.0   \n",
       "1           28,748             9,000       11.78         355.0   \n",
       "2        2,381,741           317,000       24.28         213.0   \n",
       "3              468               NaN        7.20         376.0   \n",
       "4        1,246,700           117,000       40.73         244.0   \n",
       "..             ...               ...         ...           ...   \n",
       "190        912,050           343,000       17.88          58.0   \n",
       "191        331,210           522,000       16.75          84.0   \n",
       "192        527,968            40,000       30.45         967.0   \n",
       "193        752,618            16,000       36.19         260.0   \n",
       "194        390,757            51,000       30.68         263.0   \n",
       "\n",
       "    Capital/Major City Co2-Emissions  ... Out of pocket health expenditure  \\\n",
       "0                Kabul         8,672  ...                           78.40%   \n",
       "1               Tirana         4,536  ...                           56.90%   \n",
       "2              Algiers       150,006  ...                           28.10%   \n",
       "3     Andorra la Vella           469  ...                           36.40%   \n",
       "4               Luanda        34,693  ...                           33.40%   \n",
       "..                 ...           ...  ...                              ...   \n",
       "190            Caracas       164,175  ...                           45.80%   \n",
       "191              Hanoi       192,668  ...                           43.50%   \n",
       "192              Sanaa        10,609  ...                           81.00%   \n",
       "193             Lusaka         5,141  ...                           27.50%   \n",
       "194             Harare        10,983  ...                           25.80%   \n",
       "\n",
       "    Physicians per thousand  Population  \\\n",
       "0                      0.28  38,041,754   \n",
       "1                      1.20   2,854,191   \n",
       "2                      1.72  43,053,054   \n",
       "3                      3.33      77,142   \n",
       "4                      0.21  31,825,295   \n",
       "..                      ...         ...   \n",
       "190                    1.92  28,515,829   \n",
       "191                    0.82  96,462,106   \n",
       "192                    0.31  29,161,922   \n",
       "193                    1.19  17,861,030   \n",
       "194                    0.21  14,645,468   \n",
       "\n",
       "     Population: Labor force participation (%) Tax revenue (%) Total tax rate  \\\n",
       "0                                       48.90%           9.30%         71.40%   \n",
       "1                                       55.70%          18.60%         36.60%   \n",
       "2                                       41.20%          37.20%         66.10%   \n",
       "3                                          NaN             NaN            NaN   \n",
       "4                                       77.50%           9.20%         49.10%   \n",
       "..                                         ...             ...            ...   \n",
       "190                                     59.70%             NaN         73.30%   \n",
       "191                                     77.40%          19.10%         37.60%   \n",
       "192                                     38.00%             NaN         26.60%   \n",
       "193                                     74.60%          16.20%         15.60%   \n",
       "194                                     83.10%          20.70%         31.60%   \n",
       "\n",
       "    Unemployment rate Urban_population   Latitude   Longitude  \n",
       "0              11.12%        9,797,273  33.939110   67.709953  \n",
       "1              12.33%        1,747,593  41.153332   20.168331  \n",
       "2              11.70%       31,510,100  28.033886    1.659626  \n",
       "3                 NaN           67,873  42.506285    1.521801  \n",
       "4               6.89%       21,061,025 -11.202692   17.873887  \n",
       "..                ...              ...        ...         ...  \n",
       "190             8.80%       25,162,368   6.423750  -66.589730  \n",
       "191             2.01%       35,332,140  14.058324  108.277199  \n",
       "192            12.91%       10,869,523  15.552727   48.516388  \n",
       "193            11.43%        7,871,713 -13.133897   27.849332  \n",
       "194             4.95%        4,717,305 -19.015438   29.154857  \n",
       "\n",
       "[195 rows x 35 columns]>"
      ]
     },
     "execution_count": 22,
     "metadata": {},
     "output_type": "execute_result"
    }
   ],
   "source": [
    "data.rename_axis\n"
   ]
  },
  {
   "cell_type": "code",
   "execution_count": 24,
   "id": "3989671d",
   "metadata": {},
   "outputs": [
    {
     "data": {
      "text/plain": [
       "True"
      ]
     },
     "execution_count": 24,
     "metadata": {},
     "output_type": "execute_result"
    }
   ],
   "source": [
    "data['Country'].is_unique \n",
    "# TRUE shows that there are different values\n",
    "# FALSE shows that there are "
   ]
  },
  {
   "cell_type": "code",
   "execution_count": null,
   "id": "f6a7d436",
   "metadata": {},
   "outputs": [],
   "source": [
    "data.aggregrate('Birth_rate')"
   ]
  },
  {
   "cell_type": "markdown",
   "id": "2e8a2943",
   "metadata": {},
   "source": [
    "# matplotlib"
   ]
  },
  {
   "cell_type": "markdown",
   "id": "68f364cd",
   "metadata": {},
   "source": [
    " \n",
    "\n",
    "import matplotlib.pyplot as plt\n"
   ]
  },
  {
   "cell_type": "code",
   "execution_count": 26,
   "id": "40603286",
   "metadata": {},
   "outputs": [],
   "source": [
    "x=[1,2,3,4,5]\n",
    "y=[2,4,6,8,10]"
   ]
  },
  {
   "cell_type": "code",
   "execution_count": 27,
   "id": "a250d4fe",
   "metadata": {},
   "outputs": [
    {
     "data": {
      "image/png": "[encoded data removed]",
      "text/plain": [
       "<Figure size 432x288 with 1 Axes>"
      ]
     },
     "metadata": {
      "needs_background": "light"
     },
     "output_type": "display_data"
    }
   ],
   "source": [
    "plt.plot(x,y)\n",
    "plt.xlabel('X-axis')\n",
    "plt.ylabel('Y-axis')\n",
    "plt.title('Line Graph')\n",
    "plt.show()"
   ]
  },
  {
   "cell_type": "code",
   "execution_count": 28,
   "id": "40591377",
   "metadata": {},
   "outputs": [],
   "source": [
    "categories = [10,5,7]\n",
    "values = ['A','B','C']"
   ]
  },
  {
   "cell_type": "code",
   "execution_count": 31,
   "id": "7d6a5047",
   "metadata": {},
   "outputs": [
    {
     "data": {
      "image/png": "[encoded data removed]",
      "text/plain": [
       "<Figure size 432x288 with 1 Axes>"
      ]
     },
     "metadata": {
      "needs_background": "light"
     },
     "output_type": "display_data"
    }
   ],
   "source": [
    "plt.bar(categories, values)\n",
    "plt.xlabel('Categories')\n",
    "plt.ylabel('values')\n",
    "plt.title('Bar Chart')\n",
    "plt.show()"
   ]
  },
  {
   "cell_type": "code",
   "execution_count": 32,
   "id": "c0889ed0",
   "metadata": {},
   "outputs": [],
   "source": [
    "x=[1,2,3,4,5]\n",
    "y=[2,4,6,8,10]"
   ]
  },
  {
   "cell_type": "code",
   "execution_count": 3,
   "id": "56edf268",
   "metadata": {},
   "outputs": [],
   "source": [
    "# x,y = data[\"Density\\n(P/Km2)\"],data[\"Country\"]\n",
    "# plt.scatter(x,y)\n",
    "# plt.xlabel('X-axis')\n",
    "# plt.ylabel('Y-axis')\n",
    "# plt.title('Scatter plot')\n",
    "# plt.show()"
   ]
  },
  {
   "cell_type": "code",
   "execution_count": 40,
   "id": "79dab7de",
   "metadata": {},
   "outputs": [],
   "source": [
    "categories = ['A','B','C']\n",
    "values1 = [10,5,7]\n",
    "values2 = [6,8,4]\n"
   ]
  },
  {
   "cell_type": "code",
   "execution_count": null,
   "id": "829d6693",
   "metadata": {},
   "outputs": [],
   "source": []
  },
  {
   "cell_type": "code",
   "execution_count": 41,
   "id": "823a2d25",
   "metadata": {},
   "outputs": [
    {
     "data": {
      "image/png": "[encoded data removed]",
      "text/plain": [
       "<Figure size 432x288 with 1 Axes>"
      ]
     },
     "metadata": {
      "needs_background": "light"
     },
     "output_type": "display_data"
    }
   ],
   "source": [
    "plt.bar(categories, values1, label='Values1')\n",
    "plt.bar(categories, values2, label='Values2',bottom=values1)\n",
    "plt.xlabel('Categories')\n",
    "plt.ylabel('Values')\n",
    "plt.title('Stacked Bar Chart')\n",
    "plt.legend()\n",
    "plt.show()"
   ]
  },
  {
   "cell_type": "code",
   "execution_count": 45,
   "id": "76c2ee19",
   "metadata": {},
   "outputs": [],
   "source": [
    "import numpy as np"
   ]
  },
  {
   "cell_type": "code",
   "execution_count": 47,
   "id": "936a6a08",
   "metadata": {},
   "outputs": [
    {
     "data": {
      "image/png": "[encoded data removed]",
      "text/plain": [
       "<Figure size 432x288 with 1 Axes>"
      ]
     },
     "metadata": {
      "needs_background": "light"
     },
     "output_type": "display_data"
    }
   ],
   "source": [
    "np.random.seed(42)\n",
    "# due to seed value the distribution remains same all the time\n",
    "data=np.random.randn(1000) # return a normal distribution(randint)\n",
    "plt.hist(data , bins=30)\n",
    "plt.xlabel('Value')\n",
    "plt.ylabel('Frequency')\n",
    "plt.title('Histogram')\n",
    "plt.show()"
   ]
  },
  {
   "cell_type": "code",
   "execution_count": null,
   "id": "f67adcf0",
   "metadata": {},
   "outputs": [],
   "source": []
  }
 ],
 "metadata": {
  "kernelspec": {
   "display_name": "Python 3 (ipykernel)",
   "language": "python",
   "name": "python3"
  },
  "language_info": {
   "codemirror_mode": {
    "name": "ipython",
    "version": 3
   },
   "file_extension": ".py",
   "mimetype": "text/x-python",
   "name": "python",
   "nbconvert_exporter": "python",
   "pygments_lexer": "ipython3",
   "version": "3.9.12"
  }
 },
 "nbformat": 4,
 "nbformat_minor": 5
}
