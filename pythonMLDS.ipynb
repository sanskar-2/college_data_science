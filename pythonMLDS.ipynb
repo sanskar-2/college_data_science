{
 "cells": [
  {
   "cell_type": "code",
   "execution_count": 5,
   "id": "2169d953",
   "metadata": {},
   "outputs": [
    {
     "name": "stdout",
     "output_type": "stream",
     "text": [
      "button\n",
      "clothes\n",
      "food\n"
     ]
    }
   ],
   "source": [
    "\n",
    "def logistic_provider():\n",
    "    dict1 = {1:\"button\", 2:\"clothes\",3:\"food\"}\n",
    "    for i in dict1:\n",
    "        if i==1:\n",
    "            print(\"button\")\n",
    "        elif i==2:\n",
    "            print(\"clothes\")\n",
    "        else:\n",
    "            print(\"food\")\n",
    "\n",
    "logistic_provider()\n"
   ]
  },
  {
   "cell_type": "code",
   "execution_count": 4,
   "id": "317524fa",
   "metadata": {},
   "outputs": [
    {
     "name": "stdout",
     "output_type": "stream",
     "text": [
      "[ 1  4  9 16 25]\n"
     ]
    }
   ],
   "source": [
    "import numpy \n",
    "arr = numpy.array([1,2,3,4,5])\n",
    "sq = arr**2\n",
    "print(sq)"
   ]
  },
  {
   "cell_type": "code",
   "execution_count": 6,
   "id": "92fce8d9",
   "metadata": {},
   "outputs": [
    {
     "name": "stdout",
     "output_type": "stream",
     "text": [
      "squared: [ 1  4  9 16 25]\n",
      "Mean: 3.0\n"
     ]
    }
   ],
   "source": [
    "import numpy as np\n",
    "arr=np.array([1,2,3,4,5])\n",
    "squared = arr**2\n",
    "mean = np.mean(arr)\n",
    "print(\"squared:\" , squared)\n",
    "print(\"Mean:\", mean)"
   ]
  },
  {
   "cell_type": "code",
   "execution_count": 8,
   "id": "0a2c8ffb",
   "metadata": {},
   "outputs": [
    {
     "name": "stdout",
     "output_type": "stream",
     "text": [
      "[5, 11, 21, 33, 66, 78, 5]\n"
     ]
    }
   ],
   "source": [
    "# list\n",
    "list1 = [4,5,33,66,78,21,11]\n",
    "list1.sort()\n",
    "list1.append(5)\n",
    "list1.remove(4)\n",
    "list1.count(list1)\n",
    "print(list1)"
   ]
  },
  {
   "cell_type": "code",
   "execution_count": 12,
   "id": "e5c9d828",
   "metadata": {},
   "outputs": [
    {
     "name": "stdout",
     "output_type": "stream",
     "text": [
      "file processing computed.\n"
     ]
    }
   ],
   "source": [
    "with open(\"data.txt\",\"r\") as file:\n",
    "    data = file.read()\n",
    "# process the data\n",
    "    processed_data = data.upper()\n",
    "with open(\"processed_data.txt\", \"w\") as file:\n",
    "     file.write(processed_data)\n",
    "print(\"file processing computed.\")"
   ]
  },
  {
   "cell_type": "code",
   "execution_count": null,
   "id": "52ae9adb",
   "metadata": {},
   "outputs": [],
   "source": []
  }
 ],
 "metadata": {
  "kernelspec": {
   "display_name": "Python 3 (ipykernel)",
   "language": "python",
   "name": "python3"
  },
  "language_info": {
   "codemirror_mode": {
    "name": "ipython",
    "version": 3
   },
   "file_extension": ".py",
   "mimetype": "text/x-python",
   "name": "python",
   "nbconvert_exporter": "python",
   "pygments_lexer": "ipython3",
   "version": "3.9.12"
  }
 },
 "nbformat": 4,
 "nbformat_minor": 5
}
