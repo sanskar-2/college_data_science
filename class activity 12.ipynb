{
 "cells": [
  {
   "cell_type": "markdown",
   "id": "86f6141e",
   "metadata": {},
   "source": [
    "# ChatBot using NLTK"
   ]
  },
  {
   "cell_type": "code",
   "execution_count": 8,
   "id": "82a2f758",
   "metadata": {},
   "outputs": [],
   "source": [
    "\n",
    "import tkinter as tk\n",
    "from tkinter import scrolledtext\n",
    "from nltk.tokenize import word_tokenize\n",
    "from sklearn.feature_extraction.text import CountVectorizer\n",
    "from sklearn.metrics.pairwise import cosine_similarity\n",
    "\n"
   ]
  },
  {
   "cell_type": "code",
   "execution_count": 9,
   "id": "24f39a89",
   "metadata": {},
   "outputs": [],
   "source": [
    "patterns = [\"Hello ?\",\"How are you ?\",\"What is your gender ?\"]\n"
   ]
  },
  {
   "cell_type": "code",
   "execution_count": 10,
   "id": "20511b85",
   "metadata": {},
   "outputs": [],
   "source": [
    "responses = [\n",
    "    \"Hello\",\"I am great\",\"Prefer not to say\"\n",
    "]"
   ]
  },
  {
   "cell_type": "code",
   "execution_count": 12,
   "id": "4a68e395",
   "metadata": {},
   "outputs": [
    {
     "data": {
      "text/plain": [
       "<3x8 sparse matrix of type '<class 'numpy.int64'>'\n",
       "\twith 8 stored elements in Compressed Sparse Row format>"
      ]
     },
     "execution_count": 12,
     "metadata": {},
     "output_type": "execute_result"
    }
   ],
   "source": [
    "#Create a Bag-of-Words model\n",
    "vectorizer = CountVectorizer()\n",
    "X = vectorizer.fit_transform(patterns)\n",
    "X"
   ]
  },
  {
   "cell_type": "code",
   "execution_count": 13,
   "id": "c2e0aade",
   "metadata": {},
   "outputs": [],
   "source": [
    "#Function to get the chatbot response\n",
    "\n",
    "def get_response():\n",
    "    user_message = input_text.get(\"1.0\",\"end-1c\")\n",
    "    user_message_vector = vectorizer.transform([user_message])\n",
    "    similarities = cosine_similarity(user_message_vector,X)\n",
    "    most_similar_index = similarities.argmax()\n",
    "    if similarities[0][most_similar_index] > 0:\n",
    "        response = responses[most_similar_index]\n",
    "    else:\n",
    "        response = \"I'm sorry, I don't understand.\"\n",
    "    output_text.insert(tk.END, f\"Chat: {response}\\n\")\n",
    "    input_text.delete(\"1.0\",tk.END)\n",
    "    \n",
    "# Create the main window\n",
    "root = tk.Tk()\n",
    "root.title(\"NLP Basic ChatBot\")\n",
    "\n",
    "# Create and place widgets\n",
    "input_text = scrolledtext.ScrolledText(root, wrap=tk.WORD, width=40, height=5)\n",
    "input_text.pack(padx=10, pady=10)\n",
    "\n",
    "send_button = tk.Button(root, text=\"Send\",command=get_response)\n",
    "send_button.pack()\n",
    "\n",
    "output_text = scrolledtext.ScrolledText(root, wrap=tk.WORD, width=40, height=10)\n",
    "output_text.pack(padx=10, pady=10)\n",
    "\n",
    "root.mainloop()"
   ]
  },
  {
   "cell_type": "markdown",
   "id": "b025b43b",
   "metadata": {},
   "source": [
    "# ChatBot using TextBlob"
   ]
  },
  {
   "cell_type": "code",
   "execution_count": 14,
   "id": "9c9c7747",
   "metadata": {},
   "outputs": [
    {
     "name": "stdout",
     "output_type": "stream",
     "text": [
      "Chatbot: Hello! How can I assist you? (Type 'bye' to exit)\n",
      "You: hello\n",
      "Chatbot: I'm sorry, I don't understand. Can you rephrase?\n",
      "You: hi\n",
      "Chatbot: Hello! How can I assist you?\n",
      "You: how are you?\n",
      "Chatbot: I'm sorry, I don't understand. Can you rephrase?\n",
      "You: bye\n",
      "Chatbot: Goodbye! Have a great day!\n"
     ]
    }
   ],
   "source": [
    "from textblob import TextBlob\n",
    "\n",
    "#Define some example patterns and responses\n",
    "patterns_responses = {\n",
    "    \"hi\":\"Hello! How can I assist you?\",\n",
    "    \"how are you\": \"Hello, I'm here to help!\",\n",
    "    \"bye\":\"Goodbye! Have a great day!\"\n",
    "}\n",
    "\n",
    "def chatbot_response(user_input):\n",
    "    #Create a TextBlob object for the user input\n",
    "    blob = TextBlob(user_input.lower())\n",
    "    \n",
    "    #Check for patterns in the user input\n",
    "    for pattern, response in patterns_responses.items():\n",
    "        if pattern in blob.words:\n",
    "            return response\n",
    "        \n",
    "    return \"I'm sorry, I don't understand. Can you rephrase?\"\n",
    "\n",
    "#Chatbot loop\n",
    "print(\"Chatbot: Hello! How can I assist you? (Type 'bye' to exit)\")\n",
    "while True:\n",
    "    user_input = input(\"You: \")\n",
    "    if user_input.lower() == 'bye':\n",
    "        print(\"Chatbot: Goodbye! Have a great day!\")\n",
    "        break\n",
    "    response = chatbot_response(user_input)\n",
    "    print(\"Chatbot:\",response)\n",
    "    "
   ]
  },
  {
   "cell_type": "code",
   "execution_count": 17,
   "id": "1de3d683",
   "metadata": {},
   "outputs": [],
   "source": [
    "import nltk\n",
    "from nltk.tokenize import word_tokenize, sent_tokenize\n",
    "from nltk.corpus import stopwords\n",
    "from textblob import TextBlob"
   ]
  },
  {
   "cell_type": "code",
   "execution_count": 16,
   "id": "019c030a",
   "metadata": {},
   "outputs": [
    {
     "name": "stderr",
     "output_type": "stream",
     "text": [
      "[nltk_data] Downloading package punkt to C:\\Users\\SANSKAR\n",
      "[nltk_data]     JAIN\\AppData\\Roaming\\nltk_data...\n",
      "[nltk_data]   Package punkt is already up-to-date!\n",
      "[nltk_data] Downloading package averaged_perceptron_tagger to\n",
      "[nltk_data]     C:\\Users\\SANSKAR JAIN\\AppData\\Roaming\\nltk_data...\n",
      "[nltk_data]   Unzipping taggers\\averaged_perceptron_tagger.zip.\n",
      "[nltk_data] Downloading package stopwords to C:\\Users\\SANSKAR\n",
      "[nltk_data]     JAIN\\AppData\\Roaming\\nltk_data...\n",
      "[nltk_data]   Package stopwords is already up-to-date!\n"
     ]
    },
    {
     "data": {
      "text/plain": [
       "True"
      ]
     },
     "execution_count": 16,
     "metadata": {},
     "output_type": "execute_result"
    }
   ],
   "source": [
    "#Download NLTK data (if not already downloaded)\n",
    "nltk.download('punkt')\n",
    "nltk.download('averaged_perceptron_tagger')\n",
    "nltk.download('stopwords')"
   ]
  },
  {
   "cell_type": "code",
   "execution_count": 18,
   "id": "0fee3495",
   "metadata": {},
   "outputs": [
    {
     "name": "stdout",
     "output_type": "stream",
     "text": [
      "Original Text:\n",
      "Natural language processing is a field of artificial intelligence that deals with interaction between computers and humans using natural language.\n",
      "\n",
      "Tokenized Words:\n",
      "['Natural', 'language', 'processing', 'is', 'a', 'field', 'of', 'artificial', 'intelligence', 'that', 'deals', 'with', 'interaction', 'between', 'computers', 'and', 'humans', 'using', 'natural', 'language', '.']\n",
      "\n",
      "Sentences:\n",
      "['Natural language processing is a field of artificial intelligence that deals with interaction between computers and humans using natural language.']\n",
      "\n",
      "Part-of-Speech Tags:\n",
      "[('Natural', 'JJ'), ('language', 'NN'), ('processing', 'NN'), ('is', 'VBZ'), ('a', 'DT'), ('field', 'NN'), ('of', 'IN'), ('artificial', 'JJ'), ('intelligence', 'NN'), ('that', 'IN'), ('deals', 'NNS'), ('with', 'IN'), ('interaction', 'NN'), ('between', 'IN'), ('computers', 'NNS'), ('and', 'CC'), ('humans', 'NNS'), ('using', 'VBG'), ('natural', 'JJ'), ('language', 'NN'), ('.', '.')]\n",
      "\n",
      "Sentiment Score: -0.13333333333333333\n"
     ]
    }
   ],
   "source": [
    "#Sample text\n",
    "text = \"Natural language processing is a field of artificial intelligence that deals with interaction between computers and humans using natural language.\"\n",
    "\n",
    "# Tokenization using NLTK\n",
    "words = word_tokenize(text)\n",
    "sentences = sent_tokenize(text)\n",
    "\n",
    "# Part-of-speech tagging using NLTK\n",
    "pos_tags = nltk.pos_tag(words)\n",
    "\n",
    "#Sentiment analysis usign TextBlob\n",
    "blob = TextBlob(text)\n",
    "sentiment_score = blob.sentiment.polarity\n",
    "\n",
    "#Display results\n",
    "print(\"Original Text:\")\n",
    "print(text)\n",
    "print(\"\\nTokenized Words:\")\n",
    "print(words)\n",
    "print(\"\\nSentences:\")\n",
    "print(sentences)\n",
    "print(\"\\nPart-of-Speech Tags:\")\n",
    "print(pos_tags)\n",
    "print(\"\\nSentiment Score:\",sentiment_score)\n"
   ]
  },
  {
   "cell_type": "code",
   "execution_count": 19,
   "id": "6716f420",
   "metadata": {},
   "outputs": [
    {
     "name": "stdout",
     "output_type": "stream",
     "text": [
      "\n",
      "Filtered Words (Without stopwords):\n",
      "['Natural', 'language', 'processing', 'field', 'artificial', 'intelligence', 'deals', 'interaction', 'computers', 'humans', 'using', 'natural', 'language', '.']\n"
     ]
    }
   ],
   "source": [
    "# Filtering stopwords using NLTK\n",
    "stop_words = set(stopwords.words(\"english\"))\n",
    "filtered_words = [word for word in words if word.lower() not in stop_words]\n",
    "print(\"\\nFiltered Words (Without stopwords):\")\n",
    "print(filtered_words)"
   ]
  },
  {
   "cell_type": "markdown",
   "id": "b997244d",
   "metadata": {},
   "source": [
    "# Image Filter"
   ]
  },
  {
   "cell_type": "code",
   "execution_count": null,
   "id": "25a90be1",
   "metadata": {},
   "outputs": [],
   "source": [
    "\n",
    "from PIL import Image, ImageFilter\n",
    "#Open an image using Pillow\n",
    "image_path = \"D:/Python Programs/Images/1.jpg\"\n",
    "original_image = Image.open(image_path)"
   ]
  },
  {
   "cell_type": "code",
   "execution_count": null,
   "id": "b403f77d",
   "metadata": {},
   "outputs": [],
   "source": [
    "#Display some information about the image\n",
    "print(\"Original Image Format:\",original_image.format)\n",
    "print(\"Original Image Size:\",original_image.size)\n",
    "\n",
    "#Apply a Gaussian blur filter\n",
    "blurred_image = original_image.filter(ImageFilter.GaussianBlur(radius=2))\n",
    "\n",
    "#Save the modified image\n",
    "output_path = \"D:/Python Programs/College Data Science training/modified_image.jpg\"\n",
    "blurred_image.save(output_path)\n",
    "\n",
    "#Display a message\n",
    "print(\"Image processed and saved to:\",output_path)"
   ]
  }
 ],
 "metadata": {
  "kernelspec": {
   "display_name": "Python 3 (ipykernel)",
   "language": "python",
   "name": "python3"
  },
  "language_info": {
   "codemirror_mode": {
    "name": "ipython",
    "version": 3
   },
   "file_extension": ".py",
   "mimetype": "text/x-python",
   "name": "python",
   "nbconvert_exporter": "python",
   "pygments_lexer": "ipython3",
   "version": "3.9.12"
  }
 },
 "nbformat": 4,
 "nbformat_minor": 5
}
